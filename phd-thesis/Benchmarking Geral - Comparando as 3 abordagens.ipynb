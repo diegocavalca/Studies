{
 "cells": [
  {
   "cell_type": "markdown",
   "metadata": {},
   "source": [
    "# Benchmarking Geral"
   ]
  },
  {
   "cell_type": "markdown",
   "metadata": {},
   "source": [
    "* `Objetivo:` Avaliar a classificação de séries temporais usando 3 diferentes abordagens, incluindo nossa hipótese, de codificar séries temporais através do Gráfico de Recorrência;\n",
    "\n",
    "* `Cenário Comparativo`: \n",
    "    - <u>Dados:</u> Considerando os dados estabelecidos no *Benchmarking 1*;\n",
    "        * *Detalhes:* Base REDD, baixa Frequência, Resid. 3/9 aparelhos e 80% dados de treino/20% teste);\n",
    "        * *Amostras:* Blocos de 5 minutos (300 segundos - 100 unidade, dado delay *3s*) de cada medição;\n",
    "    \n",
    "    - <u>Atributos *(Feature Space)*:</u> representação vetorial das amostras;\n",
    "        1. **Abordagem Estatística (Benchmarking 1)**: Média, Desvio Padrão, Máximo, Energia Total, Hora do Dia e Temperatura Ambiente (zerado, neste caso, pois não foi disponibilizado pelos autores); \n",
    "        2. **Abordagem GAF (Benchmarking 2)**: Representação visual da amostra, através do algoritmo *Wang and Oates’[20]/Gramian Angular Field Matrices (GAF)*, e subsequente *embedding* com uma Rede Neural com arquitetura VGG16;\n",
    "        3. **Abordagem RP (Hipótese)**: Nossa hipótese, converter a amostra em uma representação visual com a técnica de Gráfico de Recorrência (RP, do inglês *Recurrence Plot*); seguindo o *Benchmarking 2*, é realizado o *embedding* da imagem resultante com uma Rede Neural com arquitetura VGG16.\n",
    "        \n",
    "    - <u>Método de Classificação:</u> Rede Neural Multi-camadas (MLP, sem hiperparametrização - pacote [Scikit-lean](https://scikit-learn.org/stable/modules/generated/sklearn.neural_network.MLPClassifier.html#sklearn.neural_network.MLPClassifier));\n",
    "    \n",
    "    - <u>Métrica(s):</u> uma vez que o problema irá ser tratado como classificação multi-rótulo, irão ser adotadas as seguintes métricas (via pacote [Scikit-learn.metrics](https://scikit-learn.org/stable/modules/model_evaluation.html))\n",
    "        * Acurácia;\n",
    "        * Precisão;\n",
    "        * Recall;\n",
    "        * F1-score;\n",
    "        * Hamming Loss.\n",
    "        "
   ]
  },
  {
   "cell_type": "markdown",
   "metadata": {},
   "source": [
    "# Configurando ambiente e parâmetros"
   ]
  },
  {
   "cell_type": "code",
   "execution_count": 58,
   "metadata": {
    "ExecuteTime": {
     "end_time": "2019-10-01T17:23:19.760025Z",
     "start_time": "2019-10-01T17:23:19.745064Z"
    }
   },
   "outputs": [],
   "source": [
    "import numpy as np\n",
    "import matplotlib.pyplot as plt\n",
    "%matplotlib inline\n",
    "plt.style.use('ggplot')\n",
    "plt.rc('text', usetex=False)\n",
    "from matplotlib.image import imsave\n",
    "import pandas as pd\n",
    "import pickle as cPickle\n",
    "import os, sys, cv2\n",
    "from math import *\n",
    "from pprint import pprint\n",
    "from tqdm import tqdm_notebook\n",
    "from mpl_toolkits.axes_grid1 import make_axes_locatable\n",
    "from PIL import Image\n",
    "from glob import glob\n",
    "from IPython.display import display\n",
    "\n",
    "from tensorflow.keras.applications.vgg16 import VGG16\n",
    "from tensorflow.keras.preprocessing import image as keras_image\n",
    "from tensorflow.keras.applications.vgg16 import preprocess_input\n",
    "\n",
    "from sklearn.tree import DecisionTreeClassifier\n",
    "from sklearn.ensemble import RandomForestClassifier\n",
    "from sklearn.neural_network import MLPClassifier\n",
    "from sklearn.model_selection import train_test_split\n",
    "from sklearn.metrics import f1_score, precision_score, recall_score, accuracy_score, hamming_loss\n",
    "\n",
    "from pyts.image import RecurrencePlot\n",
    "\n",
    "REDD_RESOURCES_PATH = 'datasets/REDD'\n",
    "\n",
    "BENCHMARKING1_RESOURCES_PATH = 'benchmarkings/cs446 project-electric-load-identification-using-machine-learning/'\n",
    "BENCHMARKING2_RESOURCES_PATH = 'benchmarkings/Imaging-NILM-time-series/'\n",
    "HYPOTHESIS_RESOURCES_PATH = 'datasets/hipotese1-recurrenceplot-vggembedding/'\n",
    "\n",
    "sys.path.append(os.path.join(BENCHMARKING1_RESOURCES_PATH, ''))\n",
    "sys.path.append(os.path.join(BENCHMARKING2_RESOURCES_PATH, ''))\n",
    "sys.path.append(os.path.join(HYPOTHESIS_RESOURCES_PATH, ''))\n",
    "\n",
    "from serie2QMlib import *\n",
    "\n",
    "import warnings\n",
    "warnings.filterwarnings(action='ignore')"
   ]
  },
  {
   "cell_type": "markdown",
   "metadata": {},
   "source": [
    "# Carregando os dados"
   ]
  },
  {
   "cell_type": "code",
   "execution_count": 59,
   "metadata": {
    "ExecuteTime": {
     "end_time": "2019-10-01T17:23:20.412673Z",
     "start_time": "2019-10-01T17:23:20.408680Z"
    }
   },
   "outputs": [],
   "source": [
    "# devices to be used in training and testing\n",
    "use_idx = np.array([3,4,6,7,10,11,13,17,19])\n",
    "\n",
    "label_columns_idx = [\"APLIANCE_{}\".format(i) for i in use_idx]"
   ]
  },
  {
   "cell_type": "markdown",
   "metadata": {},
   "source": [
    "## Informações Estatísticas (Bench. 1)"
   ]
  },
  {
   "cell_type": "code",
   "execution_count": 60,
   "metadata": {
    "ExecuteTime": {
     "end_time": "2019-10-01T17:23:20.768220Z",
     "start_time": "2019-10-01T17:23:20.760205Z"
    }
   },
   "outputs": [],
   "source": [
    "Xb1_train = np.load( os.path.join(BENCHMARKING1_RESOURCES_PATH, 'datasets/train_instances.npy') )\n",
    "yb1_train = np.load( os.path.join(BENCHMARKING1_RESOURCES_PATH, 'datasets/train_labels_binary.npy') )\n",
    "\n",
    "Xb1_test = np.load( os.path.join(BENCHMARKING1_RESOURCES_PATH, 'datasets/test_instances.npy') )\n",
    "yb1_test = np.load( os.path.join(BENCHMARKING1_RESOURCES_PATH, 'datasets/test_labels_binary.npy') )"
   ]
  },
  {
   "cell_type": "markdown",
   "metadata": {},
   "source": [
    "## Imagens GAF (Bench. 2)"
   ]
  },
  {
   "cell_type": "code",
   "execution_count": 61,
   "metadata": {
    "ExecuteTime": {
     "end_time": "2019-10-01T17:23:21.117745Z",
     "start_time": "2019-10-01T17:23:21.097760Z"
    }
   },
   "outputs": [],
   "source": [
    "Xb2_train = np.load( os.path.join(BENCHMARKING2_RESOURCES_PATH, 'datasets/X_train.npy') )\n",
    "yb2_train = np.load( os.path.join(BENCHMARKING2_RESOURCES_PATH, 'datasets/y_train.npy') )\n",
    "\n",
    "Xb2_test = np.load( os.path.join(BENCHMARKING2_RESOURCES_PATH, 'datasets/X_test.npy') )\n",
    "yb2_test = np.load( os.path.join(BENCHMARKING2_RESOURCES_PATH, 'datasets/y_test.npy') )"
   ]
  },
  {
   "cell_type": "markdown",
   "metadata": {},
   "source": [
    "## Gráficos de Recorrência (Hipótese)"
   ]
  },
  {
   "cell_type": "code",
   "execution_count": 62,
   "metadata": {
    "ExecuteTime": {
     "end_time": "2019-10-01T17:23:21.426738Z",
     "start_time": "2019-10-01T17:23:21.407747Z"
    }
   },
   "outputs": [],
   "source": [
    "Xh_train = np.load( os.path.join(HYPOTHESIS_RESOURCES_PATH, 'X_train.npy') )\n",
    "yh_train = np.load( os.path.join(HYPOTHESIS_RESOURCES_PATH, 'y_train.npy') )\n",
    "\n",
    "Xh_test = np.load( os.path.join(HYPOTHESIS_RESOURCES_PATH, 'X_test.npy') )\n",
    "yh_test = np.load( os.path.join(HYPOTHESIS_RESOURCES_PATH, 'y_test.npy') )"
   ]
  },
  {
   "cell_type": "markdown",
   "metadata": {},
   "source": [
    "# Treinando Classificadores"
   ]
  },
  {
   "cell_type": "code",
   "execution_count": 63,
   "metadata": {
    "ExecuteTime": {
     "end_time": "2019-10-01T17:23:46.320044Z",
     "start_time": "2019-10-01T17:23:21.729801Z"
    }
   },
   "outputs": [
    {
     "data": {
      "text/plain": [
       "MLPClassifier(activation='relu', alpha=0.0001, batch_size='auto', beta_1=0.9,\n",
       "              beta_2=0.999, early_stopping=False, epsilon=1e-08,\n",
       "              hidden_layer_sizes=(100,), learning_rate='constant',\n",
       "              learning_rate_init=0.001, max_iter=200, momentum=0.9,\n",
       "              n_iter_no_change=10, nesterovs_momentum=True, power_t=0.5,\n",
       "              random_state=None, shuffle=True, solver='adam', tol=0.0001,\n",
       "              validation_fraction=0.1, verbose=False, warm_start=False)"
      ]
     },
     "execution_count": 63,
     "metadata": {},
     "output_type": "execute_result"
    }
   ],
   "source": [
    "model_b1 = MLPClassifier()#RandomForestClassifier(n_estimators=10)#DecisionTreeClassifier(max_depth=15)\n",
    "model_b1.fit(Xb1_train, yb1_train)\n",
    "\n",
    "model_b2 = MLPClassifier()#RandomForestClassifier(n_estimators=10)#DecisionTreeClassifier(max_depth=15)\n",
    "model_b2.fit(Xb2_train, yb2_train)\n",
    "\n",
    "model_h  = MLPClassifier()#RandomForestClassifier(n_estimators=10)#DecisionTreeClassifier(max_depth=15)\n",
    "model_h.fit(Xh_train, yh_train)"
   ]
  },
  {
   "cell_type": "markdown",
   "metadata": {
    "ExecuteTime": {
     "end_time": "2019-09-10T14:33:17.434313Z",
     "start_time": "2019-09-10T14:33:17.430325Z"
    }
   },
   "source": [
    "# Avaliando Modelos"
   ]
  },
  {
   "cell_type": "code",
   "execution_count": 64,
   "metadata": {
    "ExecuteTime": {
     "end_time": "2019-10-01T17:23:46.334006Z",
     "start_time": "2019-10-01T17:23:46.322039Z"
    }
   },
   "outputs": [],
   "source": [
    "def metrics(test, predicted):\n",
    "\n",
    "    acc = accuracy_score(test, predicted)\n",
    "    prec = precision_score(test, predicted)\n",
    "    rec = recall_score(test, predicted)    \n",
    "    f1 = f1_score(test, predicted)\n",
    "    f1m = f1_score(test, predicted, average='macro')\n",
    "    hl = hamming_loss(test, predicted)   \n",
    "    \n",
    "    return acc, prec, rec, f1, f1m, hl\n",
    "\n",
    "def plot_predicted_and_ground_truth(test, predicted):\n",
    "    #import matplotlib.pyplot as plt\n",
    "    plt.plot(predicted.flatten(), label = 'pred')\n",
    "    plt.plot(test.flatten(), label= 'Y')\n",
    "    plt.show();\n",
    "    return\n",
    "\n",
    "def result_report(y_test, y_pred):\n",
    "    \n",
    "    final_performance = []\n",
    "    \n",
    "    for i in range(y_test.shape[1]):\n",
    "\n",
    "        acc, prec, rec, f1, f1m, hl = metrics(y_test[:, i], y_pred[:, i])\n",
    "        final_performance.append([\n",
    "            label_columns_idx[i], \n",
    "            round(acc*100, 2), \n",
    "            round(prec*100, 2), \n",
    "            round(rec*100, 2), \n",
    "            round(f1*100, 2), \n",
    "            round(f1m*100, 2),\n",
    "            round(hl, 2)\n",
    "        ])\n",
    "\n",
    "    print(\"FINAL PERFORMANCE BY APPLIANCE (LABEL):\")\n",
    "    df_metrics = pd.DataFrame(\n",
    "        data = final_performance,\n",
    "        columns = [\"Appliance\", \"Accuracy\", \"Precision\", \"Recall\", \"F1-score\", \"F1-macro\", \"Hamming Loss\"]\n",
    "    )\n",
    "    display(df_metrics)\n",
    "\n",
    "    print(\"\")\n",
    "    print(\"OVERALL AVERAGE PERFORMANCE:\")\n",
    "    final_performance = np.mean(np.array(final_performance)[:, 1:].astype(float), axis = 0)\n",
    "    display(pd.DataFrame(\n",
    "        data = {\n",
    "            \"Metric\": [\"Accuracy\", \"Precision\", \"Recall\", \"F1-score\", \"F1-macro\", \"Hamming Loss\"],\n",
    "            \"Result (%)\": [round(p, 2) for p in final_performance]\n",
    "        }\n",
    "    ))"
   ]
  },
  {
   "cell_type": "markdown",
   "metadata": {
    "ExecuteTime": {
     "end_time": "2019-09-28T20:52:41.143788Z",
     "start_time": "2019-09-28T20:52:41.133820Z"
    }
   },
   "source": [
    "## Benchmarking 1"
   ]
  },
  {
   "cell_type": "code",
   "execution_count": 65,
   "metadata": {
    "ExecuteTime": {
     "end_time": "2019-10-01T17:23:46.462662Z",
     "start_time": "2019-10-01T17:23:46.336001Z"
    }
   },
   "outputs": [
    {
     "name": "stdout",
     "output_type": "stream",
     "text": [
      "FINAL PERFORMANCE BY APPLIANCE (LABEL):\n"
     ]
    },
    {
     "data": {
      "text/html": [
       "<div>\n",
       "<style scoped>\n",
       "    .dataframe tbody tr th:only-of-type {\n",
       "        vertical-align: middle;\n",
       "    }\n",
       "\n",
       "    .dataframe tbody tr th {\n",
       "        vertical-align: top;\n",
       "    }\n",
       "\n",
       "    .dataframe thead th {\n",
       "        text-align: right;\n",
       "    }\n",
       "</style>\n",
       "<table border=\"1\" class=\"dataframe\">\n",
       "  <thead>\n",
       "    <tr style=\"text-align: right;\">\n",
       "      <th></th>\n",
       "      <th>Appliance</th>\n",
       "      <th>Accuracy</th>\n",
       "      <th>Precision</th>\n",
       "      <th>Recall</th>\n",
       "      <th>F1-score</th>\n",
       "      <th>F1-macro</th>\n",
       "      <th>Hamming Loss</th>\n",
       "    </tr>\n",
       "  </thead>\n",
       "  <tbody>\n",
       "    <tr>\n",
       "      <th>0</th>\n",
       "      <td>APLIANCE_3</td>\n",
       "      <td>49.90</td>\n",
       "      <td>80.00</td>\n",
       "      <td>0.99</td>\n",
       "      <td>1.96</td>\n",
       "      <td>34.16</td>\n",
       "      <td>0.50</td>\n",
       "    </tr>\n",
       "    <tr>\n",
       "      <th>1</th>\n",
       "      <td>APLIANCE_4</td>\n",
       "      <td>69.12</td>\n",
       "      <td>77.09</td>\n",
       "      <td>37.07</td>\n",
       "      <td>50.06</td>\n",
       "      <td>63.86</td>\n",
       "      <td>0.31</td>\n",
       "    </tr>\n",
       "    <tr>\n",
       "      <th>2</th>\n",
       "      <td>APLIANCE_6</td>\n",
       "      <td>99.18</td>\n",
       "      <td>0.00</td>\n",
       "      <td>0.00</td>\n",
       "      <td>0.00</td>\n",
       "      <td>49.79</td>\n",
       "      <td>0.01</td>\n",
       "    </tr>\n",
       "    <tr>\n",
       "      <th>3</th>\n",
       "      <td>APLIANCE_7</td>\n",
       "      <td>99.35</td>\n",
       "      <td>0.00</td>\n",
       "      <td>0.00</td>\n",
       "      <td>0.00</td>\n",
       "      <td>49.84</td>\n",
       "      <td>0.01</td>\n",
       "    </tr>\n",
       "    <tr>\n",
       "      <th>4</th>\n",
       "      <td>APLIANCE_10</td>\n",
       "      <td>98.00</td>\n",
       "      <td>0.00</td>\n",
       "      <td>0.00</td>\n",
       "      <td>0.00</td>\n",
       "      <td>49.49</td>\n",
       "      <td>0.02</td>\n",
       "    </tr>\n",
       "    <tr>\n",
       "      <th>5</th>\n",
       "      <td>APLIANCE_11</td>\n",
       "      <td>96.78</td>\n",
       "      <td>0.00</td>\n",
       "      <td>0.00</td>\n",
       "      <td>0.00</td>\n",
       "      <td>49.18</td>\n",
       "      <td>0.03</td>\n",
       "    </tr>\n",
       "    <tr>\n",
       "      <th>6</th>\n",
       "      <td>APLIANCE_13</td>\n",
       "      <td>99.52</td>\n",
       "      <td>0.00</td>\n",
       "      <td>0.00</td>\n",
       "      <td>0.00</td>\n",
       "      <td>49.88</td>\n",
       "      <td>0.00</td>\n",
       "    </tr>\n",
       "    <tr>\n",
       "      <th>7</th>\n",
       "      <td>APLIANCE_17</td>\n",
       "      <td>99.02</td>\n",
       "      <td>0.00</td>\n",
       "      <td>0.00</td>\n",
       "      <td>0.00</td>\n",
       "      <td>49.76</td>\n",
       "      <td>0.01</td>\n",
       "    </tr>\n",
       "    <tr>\n",
       "      <th>8</th>\n",
       "      <td>APLIANCE_19</td>\n",
       "      <td>87.98</td>\n",
       "      <td>7.27</td>\n",
       "      <td>0.92</td>\n",
       "      <td>1.64</td>\n",
       "      <td>47.62</td>\n",
       "      <td>0.12</td>\n",
       "    </tr>\n",
       "  </tbody>\n",
       "</table>\n",
       "</div>"
      ],
      "text/plain": [
       "     Appliance  Accuracy  Precision  Recall  F1-score  F1-macro  Hamming Loss\n",
       "0   APLIANCE_3     49.90      80.00    0.99      1.96     34.16          0.50\n",
       "1   APLIANCE_4     69.12      77.09   37.07     50.06     63.86          0.31\n",
       "2   APLIANCE_6     99.18       0.00    0.00      0.00     49.79          0.01\n",
       "3   APLIANCE_7     99.35       0.00    0.00      0.00     49.84          0.01\n",
       "4  APLIANCE_10     98.00       0.00    0.00      0.00     49.49          0.02\n",
       "5  APLIANCE_11     96.78       0.00    0.00      0.00     49.18          0.03\n",
       "6  APLIANCE_13     99.52       0.00    0.00      0.00     49.88          0.00\n",
       "7  APLIANCE_17     99.02       0.00    0.00      0.00     49.76          0.01\n",
       "8  APLIANCE_19     87.98       7.27    0.92      1.64     47.62          0.12"
      ]
     },
     "metadata": {},
     "output_type": "display_data"
    },
    {
     "name": "stdout",
     "output_type": "stream",
     "text": [
      "\n",
      "OVERALL AVERAGE PERFORMANCE:\n"
     ]
    },
    {
     "data": {
      "text/html": [
       "<div>\n",
       "<style scoped>\n",
       "    .dataframe tbody tr th:only-of-type {\n",
       "        vertical-align: middle;\n",
       "    }\n",
       "\n",
       "    .dataframe tbody tr th {\n",
       "        vertical-align: top;\n",
       "    }\n",
       "\n",
       "    .dataframe thead th {\n",
       "        text-align: right;\n",
       "    }\n",
       "</style>\n",
       "<table border=\"1\" class=\"dataframe\">\n",
       "  <thead>\n",
       "    <tr style=\"text-align: right;\">\n",
       "      <th></th>\n",
       "      <th>Metric</th>\n",
       "      <th>Result (%)</th>\n",
       "    </tr>\n",
       "  </thead>\n",
       "  <tbody>\n",
       "    <tr>\n",
       "      <th>0</th>\n",
       "      <td>Accuracy</td>\n",
       "      <td>88.76</td>\n",
       "    </tr>\n",
       "    <tr>\n",
       "      <th>1</th>\n",
       "      <td>Precision</td>\n",
       "      <td>18.26</td>\n",
       "    </tr>\n",
       "    <tr>\n",
       "      <th>2</th>\n",
       "      <td>Recall</td>\n",
       "      <td>4.33</td>\n",
       "    </tr>\n",
       "    <tr>\n",
       "      <th>3</th>\n",
       "      <td>F1-score</td>\n",
       "      <td>5.96</td>\n",
       "    </tr>\n",
       "    <tr>\n",
       "      <th>4</th>\n",
       "      <td>F1-macro</td>\n",
       "      <td>49.29</td>\n",
       "    </tr>\n",
       "    <tr>\n",
       "      <th>5</th>\n",
       "      <td>Hamming Loss</td>\n",
       "      <td>0.11</td>\n",
       "    </tr>\n",
       "  </tbody>\n",
       "</table>\n",
       "</div>"
      ],
      "text/plain": [
       "         Metric  Result (%)\n",
       "0      Accuracy       88.76\n",
       "1     Precision       18.26\n",
       "2        Recall        4.33\n",
       "3      F1-score        5.96\n",
       "4      F1-macro       49.29\n",
       "5  Hamming Loss        0.11"
      ]
     },
     "metadata": {},
     "output_type": "display_data"
    }
   ],
   "source": [
    "y_test = np.array(yb1_test)\n",
    "\n",
    "# Predict test data\n",
    "y_pred = np.array(model_b1.predict(Xb1_test))\n",
    "\n",
    "result_report(y_test, y_pred)"
   ]
  },
  {
   "cell_type": "markdown",
   "metadata": {},
   "source": [
    "## Benchmarking 2"
   ]
  },
  {
   "cell_type": "code",
   "execution_count": 66,
   "metadata": {
    "ExecuteTime": {
     "end_time": "2019-10-01T17:23:46.593312Z",
     "start_time": "2019-10-01T17:23:46.464656Z"
    }
   },
   "outputs": [
    {
     "name": "stdout",
     "output_type": "stream",
     "text": [
      "FINAL PERFORMANCE BY APPLIANCE (LABEL):\n"
     ]
    },
    {
     "data": {
      "text/html": [
       "<div>\n",
       "<style scoped>\n",
       "    .dataframe tbody tr th:only-of-type {\n",
       "        vertical-align: middle;\n",
       "    }\n",
       "\n",
       "    .dataframe tbody tr th {\n",
       "        vertical-align: top;\n",
       "    }\n",
       "\n",
       "    .dataframe thead th {\n",
       "        text-align: right;\n",
       "    }\n",
       "</style>\n",
       "<table border=\"1\" class=\"dataframe\">\n",
       "  <thead>\n",
       "    <tr style=\"text-align: right;\">\n",
       "      <th></th>\n",
       "      <th>Appliance</th>\n",
       "      <th>Accuracy</th>\n",
       "      <th>Precision</th>\n",
       "      <th>Recall</th>\n",
       "      <th>F1-score</th>\n",
       "      <th>F1-macro</th>\n",
       "      <th>Hamming Loss</th>\n",
       "    </tr>\n",
       "  </thead>\n",
       "  <tbody>\n",
       "    <tr>\n",
       "      <th>0</th>\n",
       "      <td>APLIANCE_3</td>\n",
       "      <td>52.40</td>\n",
       "      <td>52.17</td>\n",
       "      <td>68.35</td>\n",
       "      <td>59.18</td>\n",
       "      <td>51.05</td>\n",
       "      <td>0.48</td>\n",
       "    </tr>\n",
       "    <tr>\n",
       "      <th>1</th>\n",
       "      <td>APLIANCE_4</td>\n",
       "      <td>59.50</td>\n",
       "      <td>51.48</td>\n",
       "      <td>52.10</td>\n",
       "      <td>51.79</td>\n",
       "      <td>58.44</td>\n",
       "      <td>0.40</td>\n",
       "    </tr>\n",
       "    <tr>\n",
       "      <th>2</th>\n",
       "      <td>APLIANCE_6</td>\n",
       "      <td>98.35</td>\n",
       "      <td>2.86</td>\n",
       "      <td>3.03</td>\n",
       "      <td>2.94</td>\n",
       "      <td>51.05</td>\n",
       "      <td>0.02</td>\n",
       "    </tr>\n",
       "    <tr>\n",
       "      <th>3</th>\n",
       "      <td>APLIANCE_7</td>\n",
       "      <td>95.95</td>\n",
       "      <td>2.07</td>\n",
       "      <td>13.04</td>\n",
       "      <td>3.57</td>\n",
       "      <td>50.75</td>\n",
       "      <td>0.04</td>\n",
       "    </tr>\n",
       "    <tr>\n",
       "      <th>4</th>\n",
       "      <td>APLIANCE_10</td>\n",
       "      <td>98.95</td>\n",
       "      <td>75.00</td>\n",
       "      <td>71.25</td>\n",
       "      <td>73.08</td>\n",
       "      <td>86.27</td>\n",
       "      <td>0.01</td>\n",
       "    </tr>\n",
       "    <tr>\n",
       "      <th>5</th>\n",
       "      <td>APLIANCE_11</td>\n",
       "      <td>96.95</td>\n",
       "      <td>53.33</td>\n",
       "      <td>43.41</td>\n",
       "      <td>47.86</td>\n",
       "      <td>73.15</td>\n",
       "      <td>0.03</td>\n",
       "    </tr>\n",
       "    <tr>\n",
       "      <th>6</th>\n",
       "      <td>APLIANCE_13</td>\n",
       "      <td>99.42</td>\n",
       "      <td>35.71</td>\n",
       "      <td>26.32</td>\n",
       "      <td>30.30</td>\n",
       "      <td>65.01</td>\n",
       "      <td>0.01</td>\n",
       "    </tr>\n",
       "    <tr>\n",
       "      <th>7</th>\n",
       "      <td>APLIANCE_17</td>\n",
       "      <td>96.92</td>\n",
       "      <td>5.32</td>\n",
       "      <td>12.82</td>\n",
       "      <td>7.52</td>\n",
       "      <td>52.98</td>\n",
       "      <td>0.03</td>\n",
       "    </tr>\n",
       "    <tr>\n",
       "      <th>8</th>\n",
       "      <td>APLIANCE_19</td>\n",
       "      <td>88.62</td>\n",
       "      <td>27.66</td>\n",
       "      <td>3.00</td>\n",
       "      <td>5.41</td>\n",
       "      <td>49.68</td>\n",
       "      <td>0.11</td>\n",
       "    </tr>\n",
       "  </tbody>\n",
       "</table>\n",
       "</div>"
      ],
      "text/plain": [
       "     Appliance  Accuracy  Precision  Recall  F1-score  F1-macro  Hamming Loss\n",
       "0   APLIANCE_3     52.40      52.17   68.35     59.18     51.05          0.48\n",
       "1   APLIANCE_4     59.50      51.48   52.10     51.79     58.44          0.40\n",
       "2   APLIANCE_6     98.35       2.86    3.03      2.94     51.05          0.02\n",
       "3   APLIANCE_7     95.95       2.07   13.04      3.57     50.75          0.04\n",
       "4  APLIANCE_10     98.95      75.00   71.25     73.08     86.27          0.01\n",
       "5  APLIANCE_11     96.95      53.33   43.41     47.86     73.15          0.03\n",
       "6  APLIANCE_13     99.42      35.71   26.32     30.30     65.01          0.01\n",
       "7  APLIANCE_17     96.92       5.32   12.82      7.52     52.98          0.03\n",
       "8  APLIANCE_19     88.62      27.66    3.00      5.41     49.68          0.11"
      ]
     },
     "metadata": {},
     "output_type": "display_data"
    },
    {
     "name": "stdout",
     "output_type": "stream",
     "text": [
      "\n",
      "OVERALL AVERAGE PERFORMANCE:\n"
     ]
    },
    {
     "data": {
      "text/html": [
       "<div>\n",
       "<style scoped>\n",
       "    .dataframe tbody tr th:only-of-type {\n",
       "        vertical-align: middle;\n",
       "    }\n",
       "\n",
       "    .dataframe tbody tr th {\n",
       "        vertical-align: top;\n",
       "    }\n",
       "\n",
       "    .dataframe thead th {\n",
       "        text-align: right;\n",
       "    }\n",
       "</style>\n",
       "<table border=\"1\" class=\"dataframe\">\n",
       "  <thead>\n",
       "    <tr style=\"text-align: right;\">\n",
       "      <th></th>\n",
       "      <th>Metric</th>\n",
       "      <th>Result (%)</th>\n",
       "    </tr>\n",
       "  </thead>\n",
       "  <tbody>\n",
       "    <tr>\n",
       "      <th>0</th>\n",
       "      <td>Accuracy</td>\n",
       "      <td>87.45</td>\n",
       "    </tr>\n",
       "    <tr>\n",
       "      <th>1</th>\n",
       "      <td>Precision</td>\n",
       "      <td>33.96</td>\n",
       "    </tr>\n",
       "    <tr>\n",
       "      <th>2</th>\n",
       "      <td>Recall</td>\n",
       "      <td>32.59</td>\n",
       "    </tr>\n",
       "    <tr>\n",
       "      <th>3</th>\n",
       "      <td>F1-score</td>\n",
       "      <td>31.29</td>\n",
       "    </tr>\n",
       "    <tr>\n",
       "      <th>4</th>\n",
       "      <td>F1-macro</td>\n",
       "      <td>59.82</td>\n",
       "    </tr>\n",
       "    <tr>\n",
       "      <th>5</th>\n",
       "      <td>Hamming Loss</td>\n",
       "      <td>0.13</td>\n",
       "    </tr>\n",
       "  </tbody>\n",
       "</table>\n",
       "</div>"
      ],
      "text/plain": [
       "         Metric  Result (%)\n",
       "0      Accuracy       87.45\n",
       "1     Precision       33.96\n",
       "2        Recall       32.59\n",
       "3      F1-score       31.29\n",
       "4      F1-macro       59.82\n",
       "5  Hamming Loss        0.13"
      ]
     },
     "metadata": {},
     "output_type": "display_data"
    }
   ],
   "source": [
    "y_test = np.array(yb2_test)\n",
    "y_pred = np.array(model_b2.predict(Xb2_test).astype(int))\n",
    "result_report(y_test, y_pred)"
   ]
  },
  {
   "cell_type": "markdown",
   "metadata": {},
   "source": [
    "## Hipótese"
   ]
  },
  {
   "cell_type": "code",
   "execution_count": 67,
   "metadata": {
    "ExecuteTime": {
     "end_time": "2019-10-01T17:23:46.727953Z",
     "start_time": "2019-10-01T17:23:46.595307Z"
    }
   },
   "outputs": [
    {
     "name": "stdout",
     "output_type": "stream",
     "text": [
      "FINAL PERFORMANCE BY APPLIANCE (LABEL):\n"
     ]
    },
    {
     "data": {
      "text/html": [
       "<div>\n",
       "<style scoped>\n",
       "    .dataframe tbody tr th:only-of-type {\n",
       "        vertical-align: middle;\n",
       "    }\n",
       "\n",
       "    .dataframe tbody tr th {\n",
       "        vertical-align: top;\n",
       "    }\n",
       "\n",
       "    .dataframe thead th {\n",
       "        text-align: right;\n",
       "    }\n",
       "</style>\n",
       "<table border=\"1\" class=\"dataframe\">\n",
       "  <thead>\n",
       "    <tr style=\"text-align: right;\">\n",
       "      <th></th>\n",
       "      <th>Appliance</th>\n",
       "      <th>Accuracy</th>\n",
       "      <th>Precision</th>\n",
       "      <th>Recall</th>\n",
       "      <th>F1-score</th>\n",
       "      <th>F1-macro</th>\n",
       "      <th>Hamming Loss</th>\n",
       "    </tr>\n",
       "  </thead>\n",
       "  <tbody>\n",
       "    <tr>\n",
       "      <th>0</th>\n",
       "      <td>APLIANCE_3</td>\n",
       "      <td>58.40</td>\n",
       "      <td>57.78</td>\n",
       "      <td>65.28</td>\n",
       "      <td>61.30</td>\n",
       "      <td>58.16</td>\n",
       "      <td>0.42</td>\n",
       "    </tr>\n",
       "    <tr>\n",
       "      <th>1</th>\n",
       "      <td>APLIANCE_4</td>\n",
       "      <td>63.05</td>\n",
       "      <td>57.34</td>\n",
       "      <td>44.91</td>\n",
       "      <td>50.37</td>\n",
       "      <td>60.47</td>\n",
       "      <td>0.37</td>\n",
       "    </tr>\n",
       "    <tr>\n",
       "      <th>2</th>\n",
       "      <td>APLIANCE_6</td>\n",
       "      <td>98.32</td>\n",
       "      <td>0.00</td>\n",
       "      <td>0.00</td>\n",
       "      <td>0.00</td>\n",
       "      <td>49.58</td>\n",
       "      <td>0.02</td>\n",
       "    </tr>\n",
       "    <tr>\n",
       "      <th>3</th>\n",
       "      <td>APLIANCE_7</td>\n",
       "      <td>95.72</td>\n",
       "      <td>3.75</td>\n",
       "      <td>26.09</td>\n",
       "      <td>6.56</td>\n",
       "      <td>52.18</td>\n",
       "      <td>0.04</td>\n",
       "    </tr>\n",
       "    <tr>\n",
       "      <th>4</th>\n",
       "      <td>APLIANCE_10</td>\n",
       "      <td>98.98</td>\n",
       "      <td>83.05</td>\n",
       "      <td>61.25</td>\n",
       "      <td>70.50</td>\n",
       "      <td>84.99</td>\n",
       "      <td>0.01</td>\n",
       "    </tr>\n",
       "    <tr>\n",
       "      <th>5</th>\n",
       "      <td>APLIANCE_11</td>\n",
       "      <td>97.08</td>\n",
       "      <td>55.77</td>\n",
       "      <td>44.96</td>\n",
       "      <td>49.79</td>\n",
       "      <td>74.14</td>\n",
       "      <td>0.03</td>\n",
       "    </tr>\n",
       "    <tr>\n",
       "      <th>6</th>\n",
       "      <td>APLIANCE_13</td>\n",
       "      <td>99.18</td>\n",
       "      <td>18.18</td>\n",
       "      <td>21.05</td>\n",
       "      <td>19.51</td>\n",
       "      <td>59.55</td>\n",
       "      <td>0.01</td>\n",
       "    </tr>\n",
       "    <tr>\n",
       "      <th>7</th>\n",
       "      <td>APLIANCE_17</td>\n",
       "      <td>97.78</td>\n",
       "      <td>6.90</td>\n",
       "      <td>10.26</td>\n",
       "      <td>8.25</td>\n",
       "      <td>53.56</td>\n",
       "      <td>0.02</td>\n",
       "    </tr>\n",
       "    <tr>\n",
       "      <th>8</th>\n",
       "      <td>APLIANCE_19</td>\n",
       "      <td>88.85</td>\n",
       "      <td>36.36</td>\n",
       "      <td>3.69</td>\n",
       "      <td>6.69</td>\n",
       "      <td>50.38</td>\n",
       "      <td>0.11</td>\n",
       "    </tr>\n",
       "  </tbody>\n",
       "</table>\n",
       "</div>"
      ],
      "text/plain": [
       "     Appliance  Accuracy  Precision  Recall  F1-score  F1-macro  Hamming Loss\n",
       "0   APLIANCE_3     58.40      57.78   65.28     61.30     58.16          0.42\n",
       "1   APLIANCE_4     63.05      57.34   44.91     50.37     60.47          0.37\n",
       "2   APLIANCE_6     98.32       0.00    0.00      0.00     49.58          0.02\n",
       "3   APLIANCE_7     95.72       3.75   26.09      6.56     52.18          0.04\n",
       "4  APLIANCE_10     98.98      83.05   61.25     70.50     84.99          0.01\n",
       "5  APLIANCE_11     97.08      55.77   44.96     49.79     74.14          0.03\n",
       "6  APLIANCE_13     99.18      18.18   21.05     19.51     59.55          0.01\n",
       "7  APLIANCE_17     97.78       6.90   10.26      8.25     53.56          0.02\n",
       "8  APLIANCE_19     88.85      36.36    3.69      6.69     50.38          0.11"
      ]
     },
     "metadata": {},
     "output_type": "display_data"
    },
    {
     "name": "stdout",
     "output_type": "stream",
     "text": [
      "\n",
      "OVERALL AVERAGE PERFORMANCE:\n"
     ]
    },
    {
     "data": {
      "text/html": [
       "<div>\n",
       "<style scoped>\n",
       "    .dataframe tbody tr th:only-of-type {\n",
       "        vertical-align: middle;\n",
       "    }\n",
       "\n",
       "    .dataframe tbody tr th {\n",
       "        vertical-align: top;\n",
       "    }\n",
       "\n",
       "    .dataframe thead th {\n",
       "        text-align: right;\n",
       "    }\n",
       "</style>\n",
       "<table border=\"1\" class=\"dataframe\">\n",
       "  <thead>\n",
       "    <tr style=\"text-align: right;\">\n",
       "      <th></th>\n",
       "      <th>Metric</th>\n",
       "      <th>Result (%)</th>\n",
       "    </tr>\n",
       "  </thead>\n",
       "  <tbody>\n",
       "    <tr>\n",
       "      <th>0</th>\n",
       "      <td>Accuracy</td>\n",
       "      <td>88.60</td>\n",
       "    </tr>\n",
       "    <tr>\n",
       "      <th>1</th>\n",
       "      <td>Precision</td>\n",
       "      <td>35.46</td>\n",
       "    </tr>\n",
       "    <tr>\n",
       "      <th>2</th>\n",
       "      <td>Recall</td>\n",
       "      <td>30.83</td>\n",
       "    </tr>\n",
       "    <tr>\n",
       "      <th>3</th>\n",
       "      <td>F1-score</td>\n",
       "      <td>30.33</td>\n",
       "    </tr>\n",
       "    <tr>\n",
       "      <th>4</th>\n",
       "      <td>F1-macro</td>\n",
       "      <td>60.33</td>\n",
       "    </tr>\n",
       "    <tr>\n",
       "      <th>5</th>\n",
       "      <td>Hamming Loss</td>\n",
       "      <td>0.11</td>\n",
       "    </tr>\n",
       "  </tbody>\n",
       "</table>\n",
       "</div>"
      ],
      "text/plain": [
       "         Metric  Result (%)\n",
       "0      Accuracy       88.60\n",
       "1     Precision       35.46\n",
       "2        Recall       30.83\n",
       "3      F1-score       30.33\n",
       "4      F1-macro       60.33\n",
       "5  Hamming Loss        0.11"
      ]
     },
     "metadata": {},
     "output_type": "display_data"
    }
   ],
   "source": [
    "y_test = np.array(yh_test)\n",
    "y_pred = np.array(model_h.predict(Xh_test))\n",
    "result_report(y_test, y_pred)"
   ]
  },
  {
   "cell_type": "markdown",
   "metadata": {},
   "source": [
    "# Conclusões"
   ]
  },
  {
   "cell_type": "markdown",
   "metadata": {},
   "source": [
    "A hipótese da utilização de RPs para a classificação multirótulo de cargas, no contexto descrito, demonstra os melhores resultados para as métricas **Acurácia, Precisão, F1-score ponderado (macro) e Hamming Loss**."
   ]
  },
  {
   "cell_type": "code",
   "execution_count": null,
   "metadata": {},
   "outputs": [],
   "source": []
  }
 ],
 "metadata": {
  "kernelspec": {
   "display_name": "Python 3",
   "language": "python",
   "name": "python3"
  },
  "language_info": {
   "codemirror_mode": {
    "name": "ipython",
    "version": 3
   },
   "file_extension": ".py",
   "mimetype": "text/x-python",
   "name": "python",
   "nbconvert_exporter": "python",
   "pygments_lexer": "ipython3",
   "version": "3.6.7"
  },
  "toc": {
   "base_numbering": 1,
   "nav_menu": {},
   "number_sections": true,
   "sideBar": true,
   "skip_h1_title": false,
   "title_cell": "Table of Contents",
   "title_sidebar": "Contents",
   "toc_cell": false,
   "toc_position": {},
   "toc_section_display": true,
   "toc_window_display": false
  }
 },
 "nbformat": 4,
 "nbformat_minor": 2
}
